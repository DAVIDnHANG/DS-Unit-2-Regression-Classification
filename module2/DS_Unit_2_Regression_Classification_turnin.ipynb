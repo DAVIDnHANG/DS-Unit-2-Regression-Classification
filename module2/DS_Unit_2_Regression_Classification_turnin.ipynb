{
  "nbformat": 4,
  "nbformat_minor": 0,
  "metadata": {
    "colab": {
      "name": "DS-Unit-2-Regression-Classification-turnin.ipynb",
      "provenance": [],
      "collapsed_sections": [],
      "include_colab_link": true
    },
    "kernelspec": {
      "name": "python3",
      "display_name": "Python 3"
    }
  },
  "cells": [
    {
      "cell_type": "markdown",
      "metadata": {
        "id": "view-in-github",
        "colab_type": "text"
      },
      "source": [
        "<a href=\"https://colab.research.google.com/github/DAVIDnHANG/DS-Unit-2-Regression-Classification/blob/master/module2/DS_Unit_2_Regression_Classification_turnin.ipynb\" target=\"_parent\"><img src=\"https://colab.research.google.com/assets/colab-badge.svg\" alt=\"Open In Colab\"/></a>"
      ]
    },
    {
      "cell_type": "markdown",
      "metadata": {
        "id": "JLjuXn7mwYCE",
        "colab_type": "text"
      },
      "source": [
        "1) why am i multiply y_pred * N? N =populaiton of sample\n",
        "then we are putting it in mean_absolute error = SSE / N)"
      ]
    },
    {
      "cell_type": "code",
      "metadata": {
        "id": "e8yV3QeffUT0",
        "colab_type": "code",
        "colab": {}
      },
      "source": [
        "import numpy as np\n",
        "import pandas as pd\n",
        "\n",
        "# Read New York City apartment rental listing data\n",
        "df = pd.read_csv('https://raw.githubusercontent.com/DAVIDnHANG/DS-Unit-2-Regression-Classification/master/data/apartments/renthop-nyc.csv')\n",
        "assert df.shape == (49352, 34)\n",
        "\n",
        "# Remove the most extreme 1% prices,\n",
        "# the most extreme .1% latitudes, &\n",
        "# the most extreme .1% longitudes\n",
        "df = df[(df['price'] >= np.percentile(df['price'], 0.5)) & \n",
        "        (df['price'] <= np.percentile(df['price'], 99.5)) & \n",
        "        (df['latitude'] >= np.percentile(df['latitude'], 0.05)) & \n",
        "        (df['latitude'] < np.percentile(df['latitude'], 99.95)) &\n",
        "        (df['longitude'] >= np.percentile(df['longitude'], 0.05)) & \n",
        "        (df['longitude'] <= np.percentile(df['longitude'], 99.95))]"
      ],
      "execution_count": 0,
      "outputs": []
    },
    {
      "cell_type": "markdown",
      "metadata": {
        "id": "6LEco7utOHSd",
        "colab_type": "text"
      },
      "source": [
        "**The steps to pick out the date are the following:**\n",
        "\n",
        "# Subset of April-May and then another df of June\n",
        "1.   convert to to_datetime format. turn into pandas, numpy format\n",
        "2.   mask. \n",
        "3.   then .loc all dates. in other words, a filter."
      ]
    },
    {
      "cell_type": "code",
      "metadata": {
        "id": "wrhj17R0_f_l",
        "colab_type": "code",
        "colab": {}
      },
      "source": [
        "import datetime as dt\n",
        "import pandas as pd\n",
        "df['created'] = pd.to_datetime(df['created'])\n",
        "start_date = '2016-04-01'\n",
        "end_date = '2016-05-30'\n",
        "mask = (df['created'] > start_date) & (df['created'] <=end_date)\n",
        "train_Date_ap_may = df.loc[mask]"
      ],
      "execution_count": 0,
      "outputs": []
    },
    {
      "cell_type": "code",
      "metadata": {
        "id": "b0iMgKv_HkIc",
        "colab_type": "code",
        "colab": {
          "base_uri": "https://localhost:8080/",
          "height": 170
        },
        "outputId": "fa9981d9-893e-48df-b7c2-44678b1584df"
      },
      "source": [
        "start_date = '2016-06-01'\n",
        "end_date = '2016-06-30'\n",
        "\n",
        "maskJune = (df['created'] > start_date) & (df['created'] <= end_date)\n",
        "test_Date_June = df.loc[maskJune]\n",
        "test_Date_June.columns\n"
      ],
      "execution_count": 22,
      "outputs": [
        {
          "output_type": "execute_result",
          "data": {
            "text/plain": [
              "Index(['bathrooms', 'bedrooms', 'created', 'description', 'display_address',\n",
              "       'latitude', 'longitude', 'price', 'street_address', 'interest_level',\n",
              "       'elevator', 'cats_allowed', 'hardwood_floors', 'dogs_allowed',\n",
              "       'doorman', 'dishwasher', 'no_fee', 'laundry_in_building',\n",
              "       'fitness_center', 'pre-war', 'laundry_in_unit', 'roof_deck',\n",
              "       'outdoor_space', 'dining_room', 'high_speed_internet', 'balcony',\n",
              "       'swimming_pool', 'new_construction', 'terrace', 'exclusive', 'loft',\n",
              "       'garden_patio', 'wheelchair_access', 'common_outdoor_space'],\n",
              "      dtype='object')"
            ]
          },
          "metadata": {
            "tags": []
          },
          "execution_count": 22
        }
      ]
    },
    {
      "cell_type": "markdown",
      "metadata": {
        "id": "zc4LfFPDsGs8",
        "colab_type": "text"
      },
      "source": [
        "**Mean of what I am looking at**\n",
        "Given the price of apartments right now, I want to know the best predicter for price with no other influence. So let examine price for May-April, then look at price again for June."
      ]
    },
    {
      "cell_type": "code",
      "metadata": {
        "id": "AEXf0_C5nWNl",
        "colab_type": "code",
        "colab": {
          "base_uri": "https://localhost:8080/",
          "height": 51
        },
        "outputId": "b7377f45-892a-4acc-cae4-da2b9ee40d07"
      },
      "source": [
        "from sklearn.metrics import mean_absolute_error\n",
        "#Since we are looking at y, we want price to be in the y-axis.\n",
        "target = 'price'\n",
        "y_train = train_Date_ap_may[target]\n",
        "y_test = test_Date_June[target]\n",
        "\n",
        "#get the mean of the training data then get the\n",
        "#Since this is the population mean we use N, if this is SAMPLE, we use n-2\n",
        "y_pred = [y_train.mean()] * len(y_train)\n",
        "mae_train = mean_absolute_error(y_train, y_pred)\n",
        "\n",
        "y_predtest = [y_train.mean()] * len(y_test)\n",
        "mae_test = mean_absolute_error(y_test, y_predtest)\n",
        "\n",
        "print(\"MAE for Train. In April-May, The price is about\", mae_train, \"more\" )\n",
        "print(\"MAE for test. in June, The price is about\", mae_test, \"more\")"
      ],
      "execution_count": 34,
      "outputs": [
        {
          "output_type": "stream",
          "text": [
            "MAE for Train. In April-May, The price is about 1202.912286394699 more\n",
            "MAE for test. in June, The price is about 1197.7032731340475 more\n"
          ],
          "name": "stdout"
        }
      ]
    },
    {
      "cell_type": "markdown",
      "metadata": {
        "id": "GBSrLhWRPiVu",
        "colab_type": "text"
      },
      "source": [
        "**do the 5 steps to of linear regression on python.**\n",
        "\n",
        "\n",
        "*   instanteous linear regression\n",
        "*   assign features and target\n",
        "*   fit the model\n",
        "\n",
        "\n"
      ]
    },
    {
      "cell_type": "code",
      "metadata": {
        "id": "RvCmiCtcOExe",
        "colab_type": "code",
        "colab": {
          "base_uri": "https://localhost:8080/",
          "height": 68
        },
        "outputId": "808b11c4-a5ed-4d93-ef6e-08b411e2bd24"
      },
      "source": [
        "#[ ] Engineer at least two new features. high_speed_internet       and common_outdoor_space      \n",
        "from sklearn.linear_model import LinearRegression\n",
        "# 1) instanteous the model\n",
        "model = LinearRegression()\n",
        "#2) train, and features (train on the dataframe of April-May date) \n",
        "#split into two, train data and target data\n",
        "features = ['high_speed_internet', 'bathrooms', 'bedrooms']\n",
        "X_train = train_Date_ap_may[features]\n",
        "X_test = test_Date_June[features]\n",
        "print(f'The features will be,', features)\n",
        "#3) fit with at least two features\n",
        "model.fit(X_train, y_train)\n",
        "y_train_pred = model.predict(X_train)\n",
        "train_mae = mean_absolute_error(y_train, y_train_pred)\n",
        "print(train_mae)\n",
        "\n",
        "#4) now test\n",
        "y_test_model = model.predict(X_test)\n",
        "test_mae = mean_absolute_error(y_test, y_test_model )\n",
        "print(test_mae)"
      ],
      "execution_count": 41,
      "outputs": [
        {
          "output_type": "stream",
          "text": [
            "The features will be, ['high_speed_internet', 'bathrooms', 'bedrooms']\n",
            "817.840525712477\n",
            "824.9354844292876\n"
          ],
          "name": "stdout"
        }
      ]
    },
    {
      "cell_type": "markdown",
      "metadata": {
        "id": "9o8h35o00vBc",
        "colab_type": "text"
      },
      "source": [
        "MAE is about 817 dollar off for training, and MAE 824 dollar off for test."
      ]
    },
    {
      "cell_type": "code",
      "metadata": {
        "id": "CA8S69d5a7hm",
        "colab_type": "code",
        "colab": {
          "base_uri": "https://localhost:8080/",
          "height": 102
        },
        "outputId": "e80d32b1-9bb3-44e4-90f9-827d26d828ec"
      },
      "source": [
        "coeff_df = pd.DataFrame(model.coef_, X_train.columns, columns = ['Coefficient']) \n",
        "print(coeff_df)\n",
        "print(model.intercept_)"
      ],
      "execution_count": 42,
      "outputs": [
        {
          "output_type": "stream",
          "text": [
            "                     Coefficient\n",
            "high_speed_internet   169.641216\n",
            "bathrooms            2067.317672\n",
            "bedrooms              388.784952\n",
            "478.3510604387425\n"
          ],
          "name": "stdout"
        }
      ]
    },
    {
      "cell_type": "markdown",
      "metadata": {
        "id": "VladkOfh1Ved",
        "colab_type": "text"
      },
      "source": [
        "$y=461.26 + 161.16 x_1 + 2091.50 x_2 + 384.28 x_3$\n",
        "\n",
        "the intercept is $b_o = 461$ in the eq $y=b_o + b_1 x_1 + b_2 x_2 + b_3 x_3$ \n",
        "the $b_1, b_2, b_3$ are the coefficient"
      ]
    },
    {
      "cell_type": "code",
      "metadata": {
        "id": "GyxplZhg5Inn",
        "colab_type": "code",
        "colab": {
          "base_uri": "https://localhost:8080/",
          "height": 34
        },
        "outputId": "ba877b37-d184-4b3a-e536-8cad675fe766"
      },
      "source": [
        "from sklearn.metrics import mean_absolute_error, mean_squared_error, r2_score\n",
        "import numpy as np\n",
        "#now let get the RMSE, MAE, and R^2 for the baseline.\n",
        "feature = ['high_speed_internet']\n",
        "x_two = train_Date_ap_may[feature]\n",
        "y_two = train_Date_ap_may[target]\n",
        "b= y_train.mean()\n",
        "m=0\n",
        "y_pred_two = m*x_two + b\n",
        "\n",
        "mse_base = mean_squared_error(y_two, y_pred_two) \n",
        "rmse_base = np.sqrt(mse_base)\n",
        "mae_base = mean_absolute_error(y_two, y_pred_two)\n",
        "r2_base = r2_score(y_two, y_pred_two)\n",
        "print(mse_base, rmse_base ,mae_base,r2_base)"
      ],
      "execution_count": 82,
      "outputs": [
        {
          "output_type": "stream",
          "text": [
            "3110044.942999077 1763.5319512271608 1202.912286394699 0.0\n"
          ],
          "name": "stdout"
        }
      ]
    },
    {
      "cell_type": "markdown",
      "metadata": {
        "id": "8Maq__MfEtPU",
        "colab_type": "text"
      },
      "source": [
        "Mean squared error is useless because 3 million price \n",
        "difference as a base in new york?\n",
        "\n",
        "\n",
        "square rooting the Mean square error is more useful because the variance is about 1763.53 dollar.\n",
        "\n",
        "\n",
        "All the error add up to 1202 dollar."
      ]
    },
    {
      "cell_type": "code",
      "metadata": {
        "id": "KNzL6FBijjsW",
        "colab_type": "code",
        "colab": {
          "base_uri": "https://localhost:8080/",
          "height": 34
        },
        "outputId": "f5829885-176e-44e5-86b1-1b949757f977"
      },
      "source": [
        "feature = ['high_speed_internet']\n",
        "x_test_t = test_Date_June[feature]\n",
        "y_test_t = test_Date_June[target]\n",
        "b_test= y_test.mean()\n",
        "m=0\n",
        "y_pred_test_two = m*x_test_t + b_test\n",
        "\n",
        "\n",
        "mse_base_test = mean_squared_error(y_test_t, y_pred_test_two) \n",
        "rmse_base_test = np.sqrt(mse_base)\n",
        "mae_base_test = mean_absolute_error(y_test_t, y_pred_test_two)\n",
        "r2_base_test = r2_score(y_test_t, y_pred_test_two)\n",
        "print(mse_base_test,rmse_base_test,mae_base_test,r2_base_test)"
      ],
      "execution_count": 89,
      "outputs": [
        {
          "output_type": "stream",
          "text": [
            "3108021.267852562 1763.5319512271608 1200.8695333832386 0.0\n"
          ],
          "name": "stdout"
        }
      ]
    },
    {
      "cell_type": "code",
      "metadata": {
        "id": "IEU4VluxHsRl",
        "colab_type": "code",
        "colab": {}
      },
      "source": [
        ""
      ],
      "execution_count": 0,
      "outputs": []
    },
    {
      "cell_type": "markdown",
      "metadata": {
        "id": "UlHG1OBuJMdU",
        "colab_type": "text"
      },
      "source": [
        "test linear_regression on train data."
      ]
    },
    {
      "cell_type": "code",
      "metadata": {
        "id": "ax8TxwTZJPtq",
        "colab_type": "code",
        "colab": {
          "base_uri": "https://localhost:8080/",
          "height": 34
        },
        "outputId": "ea0fa56e-f279-48a0-9975-c92d0f9ba1cc"
      },
      "source": [
        "\n",
        "y_prediction_mul = model.predict(train_Date_ap_may[features])\n",
        "\n",
        "\n",
        "\n",
        "mse_forMulti = mean_squared_error(y_two,y_prediction_mul)\n",
        "rmse_forMulti = np.sqrt(mse_forMulti)\n",
        "mae_base_test = mean_absolute_error(y_two,y_prediction_mul )\n",
        "r2_base_test = r2_score(y_two,y_prediction_mul)\n",
        "print(mse_forMulti,rmse_forMulti,mae_base_test, r2_base_test)"
      ],
      "execution_count": 94,
      "outputs": [
        {
          "output_type": "stream",
          "text": [
            "1516400.2341841555 1231.4220373958537 817.840525712477 0.512418546362915\n"
          ],
          "name": "stdout"
        }
      ]
    },
    {
      "cell_type": "code",
      "metadata": {
        "id": "Ib_B-P_sJ5iC",
        "colab_type": "code",
        "colab": {}
      },
      "source": [
        "# "
      ],
      "execution_count": 0,
      "outputs": []
    },
    {
      "cell_type": "markdown",
      "metadata": {
        "id": "gNkjwGdcKm0b",
        "colab_type": "text"
      },
      "source": [
        "real test on june\n"
      ]
    },
    {
      "cell_type": "code",
      "metadata": {
        "id": "VvsUo_7nKqUa",
        "colab_type": "code",
        "colab": {
          "base_uri": "https://localhost:8080/",
          "height": 34
        },
        "outputId": "6f5328a6-d7ee-47d2-a7a1-f2c76007b578"
      },
      "source": [
        "y_test_multi = model.predict(test_Date_June[features])\n",
        "\n",
        "mse_base_test_multi = mean_squared_error(y_test_t, y_test_multi) \n",
        "rmse_base_test_multi = np.sqrt(mse_base)\n",
        "mae_base_test_multi = mean_absolute_error(y_test_t, y_test_multi)\n",
        "r2_base_test_multi = r2_score(y_test_t, y_test_multi)\n",
        "print(mse_base_test,rmse_base_test,mae_base_test,r2_base_test)"
      ],
      "execution_count": 95,
      "outputs": [
        {
          "output_type": "stream",
          "text": [
            "3108021.267852562 1763.5319512271608 817.840525712477 0.512418546362915\n"
          ],
          "name": "stdout"
        }
      ]
    },
    {
      "cell_type": "code",
      "metadata": {
        "id": "0uqmMZIVLXcy",
        "colab_type": "code",
        "colab": {
          "base_uri": "https://localhost:8080/",
          "height": 483
        },
        "outputId": "39f773ff-1e40-4c3d-e820-71c397a8425d"
      },
      "source": [
        "import matplotlib.pyplot as plt\n",
        "fig, ax = plt.subplots()\n",
        "ax.scatter(y_test_t,y_test_multi)\n",
        "ax.plt([y_test_t.min(), y_test_t.max()], [y_test_t.min(), y_test_t.max()], 'k--', lw=4)\n",
        "ax.set_xlabel('measured')\n",
        "ax.set_ylabel('predicted')\n",
        "plt.show()"
      ],
      "execution_count": 97,
      "outputs": [
        {
          "output_type": "error",
          "ename": "AttributeError",
          "evalue": "ignored",
          "traceback": [
            "\u001b[0;31m---------------------------------------------------------------------------\u001b[0m",
            "\u001b[0;31mAttributeError\u001b[0m                            Traceback (most recent call last)",
            "\u001b[0;32m<ipython-input-97-cf4e61f875d2>\u001b[0m in \u001b[0;36m<module>\u001b[0;34m()\u001b[0m\n\u001b[1;32m      2\u001b[0m \u001b[0mfig\u001b[0m\u001b[0;34m,\u001b[0m \u001b[0max\u001b[0m \u001b[0;34m=\u001b[0m \u001b[0mplt\u001b[0m\u001b[0;34m.\u001b[0m\u001b[0msubplots\u001b[0m\u001b[0;34m(\u001b[0m\u001b[0;34m)\u001b[0m\u001b[0;34m\u001b[0m\u001b[0;34m\u001b[0m\u001b[0m\n\u001b[1;32m      3\u001b[0m \u001b[0max\u001b[0m\u001b[0;34m.\u001b[0m\u001b[0mscatter\u001b[0m\u001b[0;34m(\u001b[0m\u001b[0my_test_t\u001b[0m\u001b[0;34m,\u001b[0m\u001b[0my_test_multi\u001b[0m\u001b[0;34m)\u001b[0m\u001b[0;34m\u001b[0m\u001b[0;34m\u001b[0m\u001b[0m\n\u001b[0;32m----> 4\u001b[0;31m \u001b[0max\u001b[0m\u001b[0;34m.\u001b[0m\u001b[0mplt\u001b[0m\u001b[0;34m(\u001b[0m\u001b[0;34m[\u001b[0m\u001b[0my_test_t\u001b[0m\u001b[0;34m.\u001b[0m\u001b[0mmin\u001b[0m\u001b[0;34m(\u001b[0m\u001b[0;34m)\u001b[0m\u001b[0;34m,\u001b[0m \u001b[0my_test_t\u001b[0m\u001b[0;34m.\u001b[0m\u001b[0mmax\u001b[0m\u001b[0;34m(\u001b[0m\u001b[0;34m)\u001b[0m\u001b[0;34m]\u001b[0m\u001b[0;34m,\u001b[0m \u001b[0;34m[\u001b[0m\u001b[0my_test_t\u001b[0m\u001b[0;34m.\u001b[0m\u001b[0mmin\u001b[0m\u001b[0;34m(\u001b[0m\u001b[0;34m)\u001b[0m\u001b[0;34m,\u001b[0m \u001b[0my_test_t\u001b[0m\u001b[0;34m.\u001b[0m\u001b[0mmax\u001b[0m\u001b[0;34m(\u001b[0m\u001b[0;34m)\u001b[0m\u001b[0;34m]\u001b[0m\u001b[0;34m,\u001b[0m \u001b[0;34m'k--'\u001b[0m\u001b[0;34m,\u001b[0m \u001b[0mlw\u001b[0m\u001b[0;34m=\u001b[0m\u001b[0;36m4\u001b[0m\u001b[0;34m)\u001b[0m\u001b[0;34m\u001b[0m\u001b[0;34m\u001b[0m\u001b[0m\n\u001b[0m\u001b[1;32m      5\u001b[0m \u001b[0max\u001b[0m\u001b[0;34m.\u001b[0m\u001b[0mset_xlabel\u001b[0m\u001b[0;34m(\u001b[0m\u001b[0;34m'measured'\u001b[0m\u001b[0;34m)\u001b[0m\u001b[0;34m\u001b[0m\u001b[0;34m\u001b[0m\u001b[0m\n\u001b[1;32m      6\u001b[0m \u001b[0max\u001b[0m\u001b[0;34m.\u001b[0m\u001b[0mset_ylabel\u001b[0m\u001b[0;34m(\u001b[0m\u001b[0;34m'predicted'\u001b[0m\u001b[0;34m)\u001b[0m\u001b[0;34m\u001b[0m\u001b[0;34m\u001b[0m\u001b[0m\n",
            "\u001b[0;31mAttributeError\u001b[0m: 'AxesSubplot' object has no attribute 'plt'"
          ]
        },
        {
          "output_type": "display_data",
          "data": {
            "image/png": "[encoded data removed]",
            "text/plain": [
              "<Figure size 432x288 with 1 Axes>"
            ]
          },
          "metadata": {
            "tags": []
          }
        }
      ]
    },
    {
      "cell_type": "code",
      "metadata": {
        "id": "htinMpHlLKDK",
        "colab_type": "code",
        "colab": {}
      },
      "source": [
        ""
      ],
      "execution_count": 0,
      "outputs": []
    }
  ]
}