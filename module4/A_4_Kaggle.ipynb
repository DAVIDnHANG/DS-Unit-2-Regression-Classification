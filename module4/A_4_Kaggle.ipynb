{
  "nbformat": 4,
  "nbformat_minor": 0,
  "metadata": {
    "colab": {
      "name": "A-4 Kaggle.ipynb",
      "provenance": [],
      "collapsed_sections": [],
      "include_colab_link": true
    },
    "kernelspec": {
      "name": "python3",
      "display_name": "Python 3"
    }
  },
  "cells": [
    {
      "cell_type": "markdown",
      "metadata": {
        "id": "view-in-github",
        "colab_type": "text"
      },
      "source": [
        "<a href=\"https://colab.research.google.com/github/DAVIDnHANG/DS-Unit-2-Regression-Classification/blob/master/module4/A_4_Kaggle.ipynb\" target=\"_parent\"><img src=\"https://colab.research.google.com/assets/colab-badge.svg\" alt=\"Open In Colab\"/></a>"
      ]
    },
    {
      "cell_type": "markdown",
      "metadata": {
        "id": "Lz3EGesKZE3e",
        "colab_type": "text"
      },
      "source": [
        "#google colab then, read the three files\n",
        "train,\n",
        "test\n",
        "train"
      ]
    },
    {
      "cell_type": "code",
      "metadata": {
        "id": "jeSQVolFGr3n",
        "colab_type": "code",
        "colab": {}
      },
      "source": [
        "from google.colab import drive\n",
        "drive.mount('/content/drive')"
      ],
      "execution_count": 0,
      "outputs": []
    },
    {
      "cell_type": "markdown",
      "metadata": {
        "id": "xFNonH7fZU8T",
        "colab_type": "text"
      },
      "source": [
        "# import"
      ]
    },
    {
      "cell_type": "code",
      "metadata": {
        "id": "7bASV1A5FhPc",
        "colab_type": "code",
        "colab": {}
      },
      "source": [
        "import numpy as np\n",
        "import pandas as pd\n"
      ],
      "execution_count": 0,
      "outputs": []
    },
    {
      "cell_type": "code",
      "metadata": {
        "id": "Aa_3BnR2F_8V",
        "colab_type": "code",
        "colab": {}
      },
      "source": [
        "from google.colab import files\n",
        "#uploaded = files.upload()\n",
        "#then change the filepath buffer once the file is in google.colab. also remove the file.upload() function\n",
        "\n",
        "#name the column, adding informative names to features\n",
        "#data has no header, and no footheader\n",
        "train_features = pd.read_csv('/content/train_features.csv')\n",
        "test_features = pd.read_csv('/content/test_features.csv')\n",
        "train_labels = pd.read_csv('/content/train_labels.csv')\n"
      ],
      "execution_count": 0,
      "outputs": []
    },
    {
      "cell_type": "markdown",
      "metadata": {
        "id": "dkX_dPKpakq7",
        "colab_type": "text"
      },
      "source": [
        "# Train_test_split\n",
        "split the DF into parts "
      ]
    },
    {
      "cell_type": "code",
      "metadata": {
        "id": "O42PXDk4Hvle",
        "colab_type": "code",
        "colab": {}
      },
      "source": [
        "from sklearn.model_selection import train_test_split\n",
        "\n",
        "X_train, X_test, y_train, y_test = train_test_split(train_features, train_labels, random_state=42)"
      ],
      "execution_count": 0,
      "outputs": []
    },
    {
      "cell_type": "markdown",
      "metadata": {
        "id": "H2Cl4NepI5Pu",
        "colab_type": "text"
      },
      "source": [
        "drop funder, installer, scheme_management, scheme_name, permit\n"
      ]
    },
    {
      "cell_type": "code",
      "metadata": {
        "id": "9jIrpOZH1O_Y",
        "colab_type": "code",
        "colab": {}
      },
      "source": [
        "split_train.dtypes"
      ],
      "execution_count": 0,
      "outputs": []
    },
    {
      "cell_type": "code",
      "metadata": {
        "id": "kBQOf-_M1bXF",
        "colab_type": "code",
        "colab": {}
      },
      "source": [
        "split_train.head(10)"
      ],
      "execution_count": 0,
      "outputs": []
    },
    {
      "cell_type": "markdown",
      "metadata": {
        "id": "vobIB_bH2sX-",
        "colab_type": "text"
      },
      "source": [
        "I think the important columns are\n",
        "\n",
        "amount_tsh  - target\n",
        "date_recorded\n",
        "\n",
        "gps_height : Altitude of the well\n",
        "longitude : GPS coordinate\n",
        "latitude : GPS coordinate\n",
        "population : Population around the well\n",
        "extraction_type : The kind of extraction the waterpoint uses\n",
        "extraction_type_class : The kind of extraction the waterpoint uses\n",
        "quality_group : The quality of the water\n",
        "quantity : The quantity of water\n",
        "source : The source of the water\n",
        "source_type : The source of the water\n",
        "source_class : The source of the water\n",
        "waterpoint_type : The kind of waterpoint\n"
      ]
    },
    {
      "cell_type": "markdown",
      "metadata": {
        "id": "h0wvKOR1eOCd",
        "colab_type": "text"
      },
      "source": [
        "# a baseline for classification\n",
        "\n",
        "*   use majority class\n",
        "*   find out the majority class. use \n",
        "      my_train.describe()\n",
        "\n",
        "A baseline for classification can be the most common class in the training dataset.\n",
        "\n",
        "A baseline for regression can be the mean of the training labels. \n",
        "\n",
        "A baseline for time-series regressions can be the value from the previous timestep.\n",
        "\n"
      ]
    },
    {
      "cell_type": "code",
      "metadata": {
        "id": "Lj5wD6491sBM",
        "colab_type": "code",
        "colab": {}
      },
      "source": [
        ""
      ],
      "execution_count": 0,
      "outputs": []
    },
    {
      "cell_type": "markdown",
      "metadata": {
        "id": "81AnbQkEhk7e",
        "colab_type": "text"
      },
      "source": [
        "# 1-hot encode the y-train into 0,1"
      ]
    },
    {
      "cell_type": "code",
      "metadata": {
        "id": "P04VMbGZhzgb",
        "colab_type": "code",
        "colab": {}
      },
      "source": [
        "pip install category_encoders"
      ],
      "execution_count": 0,
      "outputs": []
    },
    {
      "cell_type": "code",
      "metadata": {
        "id": "buyMoJW1f4Rb",
        "colab_type": "code",
        "colab": {}
      },
      "source": [
        "import category_encoders as ce\n",
        "encoder = ce.OneHotEncoder(use_cat_names=True)\n",
        "##train\n",
        "t_train = encoder.fit_transform(y_train)\n",
        "\n",
        "###Test\n",
        "t_test = encoder.transform(y_test)"
      ],
      "execution_count": 0,
      "outputs": []
    },
    {
      "cell_type": "code",
      "metadata": {
        "id": "tabDd4C9iA7D",
        "colab_type": "code",
        "outputId": "8627761c-2f71-45ef-815f-86757d30043e",
        "colab": {
          "base_uri": "https://localhost:8080/",
          "height": 34
        }
      },
      "source": [
        "y_test.columns"
      ],
      "execution_count": 0,
      "outputs": [
        {
          "output_type": "execute_result",
          "data": {
            "text/plain": [
              "Index(['id', 'status_group'], dtype='object')"
            ]
          },
          "metadata": {
            "tags": []
          },
          "execution_count": 45
        }
      ]
    },
    {
      "cell_type": "markdown",
      "metadata": {
        "id": "P6Y_9jm1i_3j",
        "colab_type": "text"
      },
      "source": [
        "#func - nonfunc or repair\n",
        "38% of the pipes are non-functional. \n",
        "54 of the pip are non-functionall\n",
        ".07 need repair. a small STd means."
      ]
    },
    {
      "cell_type": "code",
      "metadata": {
        "id": "cJYXshK8iHMD",
        "colab_type": "code",
        "outputId": "ff282afd-b2a1-47eb-e885-25553080a3db",
        "colab": {
          "base_uri": "https://localhost:8080/",
          "height": 85
        }
      },
      "source": [
        "status=y_test['status_group']\n",
        "status.value_counts(normalize=True)"
      ],
      "execution_count": 0,
      "outputs": [
        {
          "output_type": "execute_result",
          "data": {
            "text/plain": [
              "functional                 0.545320\n",
              "non functional             0.382357\n",
              "functional needs repair    0.072323\n",
              "Name: status_group, dtype: float64"
            ]
          },
          "metadata": {
            "tags": []
          },
          "execution_count": 46
        }
      ]
    },
    {
      "cell_type": "code",
      "metadata": {
        "id": "VoJwT4FJr6Pj",
        "colab_type": "code",
        "colab": {}
      },
      "source": [
        "PorF = status.mode()[0]\n",
        "y_pred = [PorF] * len(status)"
      ],
      "execution_count": 0,
      "outputs": []
    },
    {
      "cell_type": "markdown",
      "metadata": {
        "id": "Xz7Cwhn0l3as",
        "colab_type": "text"
      },
      "source": [
        "# Classification metric:accuracy\n",
        " regression metric are not classication.\n",
        " Use Accuracy for classification"
      ]
    },
    {
      "cell_type": "code",
      "metadata": {
        "id": "91c8jH7Plipc",
        "colab_type": "code",
        "colab": {}
      },
      "source": [
        "from sklearn.metrics import accuracy_score"
      ],
      "execution_count": 0,
      "outputs": []
    },
    {
      "cell_type": "code",
      "metadata": {
        "id": "k2BkKcUol1JT",
        "colab_type": "code",
        "outputId": "014823a0-ae4a-4316-e252-23a46e56f449",
        "colab": {
          "base_uri": "https://localhost:8080/",
          "height": 34
        }
      },
      "source": [
        "#Status comes from creating a column of the non-funct of func or repair\n",
        "accuracy_score(status,y_pred)"
      ],
      "execution_count": 0,
      "outputs": [
        {
          "output_type": "execute_result",
          "data": {
            "text/plain": [
              "0.5453198653198653"
            ]
          },
          "metadata": {
            "tags": []
          },
          "execution_count": 60
        }
      ]
    },
    {
      "cell_type": "markdown",
      "metadata": {
        "id": "acQZ0audsX3j",
        "colab_type": "text"
      },
      "source": [
        "we are looking at"
      ]
    },
    {
      "cell_type": "code",
      "metadata": {
        "id": "SILpp8bJmhOy",
        "colab_type": "code",
        "colab": {}
      },
      "source": [
        "X_train.describe()"
      ],
      "execution_count": 0,
      "outputs": []
    },
    {
      "cell_type": "code",
      "metadata": {
        "id": "hFg7mNRvsgZa",
        "colab_type": "code",
        "outputId": "c9acbd13-71ae-408b-897b-0524f7575b8f",
        "colab": {
          "base_uri": "https://localhost:8080/",
          "height": 34
        }
      },
      "source": [
        "Func_not=y_train['status_group']\n",
        "y_predictor = [PorF] * len(Func_not)\n",
        "accuracy_score(y_predictor, Func_not)"
      ],
      "execution_count": 0,
      "outputs": [
        {
          "output_type": "execute_result",
          "data": {
            "text/plain": [
              "0.542334455667789"
            ]
          },
          "metadata": {
            "tags": []
          },
          "execution_count": 62
        }
      ]
    },
    {
      "cell_type": "markdown",
      "metadata": {
        "id": "JKVjxSWeuMWr",
        "colab_type": "text"
      },
      "source": [
        "# Time for Linear Logistic 5 step\n"
      ]
    },
    {
      "cell_type": "code",
      "metadata": {
        "id": "eoAjmirvuQ1i",
        "colab_type": "code",
        "colab": {}
      },
      "source": [
        ""
      ],
      "execution_count": 0,
      "outputs": []
    },
    {
      "cell_type": "code",
      "metadata": {
        "id": "bxz51CHfuT_r",
        "colab_type": "code",
        "colab": {}
      },
      "source": [
        "#import\n",
        "from sklearn.linear_model import LogisticRegression\n",
        "\n",
        "log_reg = LogisticRegression(solver='lbfgs')\n",
        "log_reg.fit(X_train_imputed, y_train)\n",
        "print('Valid', log_reg.score(X_train_imputed, y_train))\n",
        "# instantiate this class\n",
        "model= LinearRegression()\n",
        "# features and target\n",
        "target = 'status_group'\n",
        "features = ['amount_tsh','gps_height','population']\n",
        "\n",
        "X_wants = X_train[features]\n",
        "y_target = y_train[target]"
      ],
      "execution_count": 0,
      "outputs": []
    }
  ]
}