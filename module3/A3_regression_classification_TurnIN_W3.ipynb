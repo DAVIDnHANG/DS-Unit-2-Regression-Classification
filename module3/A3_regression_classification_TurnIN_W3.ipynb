{
  "nbformat": 4,
  "nbformat_minor": 0,
  "metadata": {
    "colab": {
      "name": "A3_regression_classification_TurnIN-W3.ipynb",
      "provenance": [],
      "collapsed_sections": [],
      "include_colab_link": true
    },
    "kernelspec": {
      "name": "python3",
      "display_name": "Python 3"
    }
  },
  "cells": [
    {
      "cell_type": "markdown",
      "metadata": {
        "id": "view-in-github",
        "colab_type": "text"
      },
      "source": [
        "<a href=\"https://colab.research.google.com/github/DAVIDnHANG/DS-Unit-2-Regression-Classification/blob/master/module3/A3_regression_classification_TurnIN_W3.ipynb\" target=\"_parent\"><img src=\"https://colab.research.google.com/assets/colab-badge.svg\" alt=\"Open In Colab\"/></a>"
      ]
    },
    {
      "cell_type": "code",
      "metadata": {
        "id": "BSA-IKWP0n4D",
        "colab_type": "code",
        "outputId": "f63c0da5-683a-4dbb-9c72-89007166333e",
        "colab": {
          "base_uri": "https://localhost:8080/",
          "height": 310
        }
      },
      "source": [
        "pip install category_encoders"
      ],
      "execution_count": 0,
      "outputs": [
        {
          "output_type": "stream",
          "text": [
            "Collecting category_encoders\n",
            "\u001b[?25l  Downloading https://files.pythonhosted.org/packages/a0/52/c54191ad3782de633ea3d6ee3bb2837bda0cf3bc97644bb6375cf14150a0/category_encoders-2.1.0-py2.py3-none-any.whl (100kB)\n",
            "\r\u001b[K     |███▎                            | 10kB 16.3MB/s eta 0:00:01\r\u001b[K     |██████▌                         | 20kB 1.7MB/s eta 0:00:01\r\u001b[K     |█████████▉                      | 30kB 2.6MB/s eta 0:00:01\r\u001b[K     |█████████████                   | 40kB 1.7MB/s eta 0:00:01\r\u001b[K     |████████████████▍               | 51kB 2.1MB/s eta 0:00:01\r\u001b[K     |███████████████████▋            | 61kB 2.5MB/s eta 0:00:01\r\u001b[K     |██████████████████████▉         | 71kB 2.9MB/s eta 0:00:01\r\u001b[K     |██████████████████████████▏     | 81kB 3.3MB/s eta 0:00:01\r\u001b[K     |█████████████████████████████▍  | 92kB 3.7MB/s eta 0:00:01\r\u001b[K     |████████████████████████████████| 102kB 2.7MB/s \n",
            "\u001b[?25hRequirement already satisfied: pandas>=0.21.1 in /usr/local/lib/python3.6/dist-packages (from category_encoders) (0.24.2)\n",
            "Requirement already satisfied: scipy>=0.19.0 in /usr/local/lib/python3.6/dist-packages (from category_encoders) (1.3.1)\n",
            "Requirement already satisfied: patsy>=0.4.1 in /usr/local/lib/python3.6/dist-packages (from category_encoders) (0.5.1)\n",
            "Requirement already satisfied: scikit-learn>=0.20.0 in /usr/local/lib/python3.6/dist-packages (from category_encoders) (0.21.3)\n",
            "Requirement already satisfied: numpy>=1.11.3 in /usr/local/lib/python3.6/dist-packages (from category_encoders) (1.16.5)\n",
            "Requirement already satisfied: statsmodels>=0.6.1 in /usr/local/lib/python3.6/dist-packages (from category_encoders) (0.10.1)\n",
            "Requirement already satisfied: python-dateutil>=2.5.0 in /usr/local/lib/python3.6/dist-packages (from pandas>=0.21.1->category_encoders) (2.5.3)\n",
            "Requirement already satisfied: pytz>=2011k in /usr/local/lib/python3.6/dist-packages (from pandas>=0.21.1->category_encoders) (2018.9)\n",
            "Requirement already satisfied: six in /usr/local/lib/python3.6/dist-packages (from patsy>=0.4.1->category_encoders) (1.12.0)\n",
            "Requirement already satisfied: joblib>=0.11 in /usr/local/lib/python3.6/dist-packages (from scikit-learn>=0.20.0->category_encoders) (0.13.2)\n",
            "Installing collected packages: category-encoders\n",
            "Successfully installed category-encoders-2.1.0\n"
          ],
          "name": "stdout"
        }
      ]
    },
    {
      "cell_type": "code",
      "metadata": {
        "id": "W_XjiI1PMN00",
        "colab_type": "code",
        "colab": {}
      },
      "source": [
        "#imports here\n",
        "import pandas as pd\n",
        "import pandas_profiling\n",
        "import datetime as dt\n",
        "import numpy as np"
      ],
      "execution_count": 0,
      "outputs": []
    },
    {
      "cell_type": "code",
      "metadata": {
        "id": "0rOsZEci8W8u",
        "colab_type": "code",
        "colab": {}
      },
      "source": [
        "# Read New York City property sales data\n",
        "df = pd.read_csv('https://raw.githubusercontent.com/DAVIDnHANG/DS-Unit-2-Regression-Classification/master/data/condos/NYC_Citywide_Rolling_Calendar_Sales.csv')\n",
        "\n",
        "# Change column names: replace spaces with underscores\n",
        "df.columns = [col.replace(' ', '_') for col in df]\n",
        "\n",
        "# SALE_PRICE was read as strings.\n",
        "# Remove symbols, convert to integer\n",
        "df['SALE_PRICE'] = (\n",
        "    df['SALE_PRICE']\n",
        "    .str.replace('$','')\n",
        "    .str.replace('-','')\n",
        "    .str.replace(',','')\n",
        "    .astype(int))\n"
      ],
      "execution_count": 0,
      "outputs": []
    },
    {
      "cell_type": "code",
      "metadata": {
        "id": "6ZwHgmzC-KW7",
        "colab_type": "code",
        "colab": {}
      },
      "source": [
        "# BOROUGH is a numeric column, but arguably should be a categorical feature,\n",
        "# so convert it from a number to a string\n",
        "df['BOROUGH'] = df['BOROUGH'].astype(str)\n",
        "\n",
        "# Reduce cardinality for NEIGHBORHOOD feature\n",
        "\n",
        "# Get a list of the top 10 neighborhoods\n",
        "top10 = df['NEIGHBORHOOD'].value_counts()[:10].index\n",
        "\n",
        "# At locations where the neighborhood is NOT in the top 10, \n",
        "# replace the neighborhood with 'OTHER'\n",
        "df.loc[~df['NEIGHBORHOOD'].isin(top10), 'NEIGHBORHOOD'] = 'OTHER'"
      ],
      "execution_count": 0,
      "outputs": []
    },
    {
      "cell_type": "code",
      "metadata": {
        "id": "aJd1H8cmel9O",
        "colab_type": "code",
        "outputId": "17b1c5c5-3737-4395-aeac-7b4293d5c119",
        "colab": {
          "base_uri": "https://localhost:8080/",
          "height": 279
        }
      },
      "source": [
        "#restrict the data set between 100k to 2million of SALE_PRICE\n",
        "\n",
        "#Turn the SALE PRICE, a object str, into a int.\n",
        "df['SALE_PRICE'].astype(str).astype(int)\n",
        "df['SALE_PRICE'] =df['SALE_PRICE'].replace(np.nan,0)\n",
        "df=df.loc[(df['SALE_PRICE'] >= 100000) & (df['SALE_PRICE'] <= 2000000)]\n",
        "df.head(3)"
      ],
      "execution_count": 0,
      "outputs": [
        {
          "output_type": "execute_result",
          "data": {
            "text/html": [
              "<div>\n",
              "<style scoped>\n",
              "    .dataframe tbody tr th:only-of-type {\n",
              "        vertical-align: middle;\n",
              "    }\n",
              "\n",
              "    .dataframe tbody tr th {\n",
              "        vertical-align: top;\n",
              "    }\n",
              "\n",
              "    .dataframe thead th {\n",
              "        text-align: right;\n",
              "    }\n",
              "</style>\n",
              "<table border=\"1\" class=\"dataframe\">\n",
              "  <thead>\n",
              "    <tr style=\"text-align: right;\">\n",
              "      <th></th>\n",
              "      <th>BOROUGH</th>\n",
              "      <th>NEIGHBORHOOD</th>\n",
              "      <th>BUILDING_CLASS_CATEGORY</th>\n",
              "      <th>TAX_CLASS_AT_PRESENT</th>\n",
              "      <th>BLOCK</th>\n",
              "      <th>LOT</th>\n",
              "      <th>EASE-MENT</th>\n",
              "      <th>BUILDING_CLASS_AT_PRESENT</th>\n",
              "      <th>ADDRESS</th>\n",
              "      <th>APARTMENT_NUMBER</th>\n",
              "      <th>ZIP_CODE</th>\n",
              "      <th>RESIDENTIAL_UNITS</th>\n",
              "      <th>COMMERCIAL_UNITS</th>\n",
              "      <th>TOTAL_UNITS</th>\n",
              "      <th>LAND_SQUARE_FEET</th>\n",
              "      <th>GROSS_SQUARE_FEET</th>\n",
              "      <th>YEAR_BUILT</th>\n",
              "      <th>TAX_CLASS_AT_TIME_OF_SALE</th>\n",
              "      <th>BUILDING_CLASS_AT_TIME_OF_SALE</th>\n",
              "      <th>SALE_PRICE</th>\n",
              "      <th>SALE_DATE</th>\n",
              "    </tr>\n",
              "  </thead>\n",
              "  <tbody>\n",
              "    <tr>\n",
              "      <th>44</th>\n",
              "      <td>3</td>\n",
              "      <td>OTHER</td>\n",
              "      <td>01 ONE FAMILY DWELLINGS</td>\n",
              "      <td>1</td>\n",
              "      <td>5495</td>\n",
              "      <td>801</td>\n",
              "      <td>NaN</td>\n",
              "      <td>A9</td>\n",
              "      <td>4832 BAY PARKWAY</td>\n",
              "      <td>NaN</td>\n",
              "      <td>11230.0</td>\n",
              "      <td>1.0</td>\n",
              "      <td>0.0</td>\n",
              "      <td>1.0</td>\n",
              "      <td>6,800</td>\n",
              "      <td>1325.0</td>\n",
              "      <td>1930.0</td>\n",
              "      <td>1</td>\n",
              "      <td>A9</td>\n",
              "      <td>550000</td>\n",
              "      <td>01/01/2019</td>\n",
              "    </tr>\n",
              "    <tr>\n",
              "      <th>61</th>\n",
              "      <td>4</td>\n",
              "      <td>OTHER</td>\n",
              "      <td>01 ONE FAMILY DWELLINGS</td>\n",
              "      <td>1</td>\n",
              "      <td>7918</td>\n",
              "      <td>72</td>\n",
              "      <td>NaN</td>\n",
              "      <td>A1</td>\n",
              "      <td>80-23 232ND STREET</td>\n",
              "      <td>NaN</td>\n",
              "      <td>11427.0</td>\n",
              "      <td>1.0</td>\n",
              "      <td>0.0</td>\n",
              "      <td>1.0</td>\n",
              "      <td>4,000</td>\n",
              "      <td>2001.0</td>\n",
              "      <td>1940.0</td>\n",
              "      <td>1</td>\n",
              "      <td>A1</td>\n",
              "      <td>200000</td>\n",
              "      <td>01/01/2019</td>\n",
              "    </tr>\n",
              "    <tr>\n",
              "      <th>65</th>\n",
              "      <td>1</td>\n",
              "      <td>OTHER</td>\n",
              "      <td>13 CONDOS - ELEVATOR APARTMENTS</td>\n",
              "      <td>2</td>\n",
              "      <td>691</td>\n",
              "      <td>1130</td>\n",
              "      <td>NaN</td>\n",
              "      <td>R4</td>\n",
              "      <td>505 WEST 19TH STREET, 7D</td>\n",
              "      <td>7D</td>\n",
              "      <td>10011.0</td>\n",
              "      <td>1.0</td>\n",
              "      <td>0.0</td>\n",
              "      <td>1.0</td>\n",
              "      <td>18,975</td>\n",
              "      <td>1077.0</td>\n",
              "      <td>2013.0</td>\n",
              "      <td>2</td>\n",
              "      <td>R4</td>\n",
              "      <td>2000000</td>\n",
              "      <td>01/02/2019</td>\n",
              "    </tr>\n",
              "  </tbody>\n",
              "</table>\n",
              "</div>"
            ],
            "text/plain": [
              "   BOROUGH NEIGHBORHOOD  ... SALE_PRICE   SALE_DATE\n",
              "44       3        OTHER  ...     550000  01/01/2019\n",
              "61       4        OTHER  ...     200000  01/01/2019\n",
              "65       1        OTHER  ...    2000000  01/02/2019\n",
              "\n",
              "[3 rows x 21 columns]"
            ]
          },
          "metadata": {
            "tags": []
          },
          "execution_count": 6
        }
      ]
    },
    {
      "cell_type": "code",
      "metadata": {
        "id": "ziHOKz2ulrLT",
        "colab_type": "code",
        "outputId": "baf43f1c-719c-4793-cf63-165d1d2fcbfc",
        "colab": {
          "base_uri": "https://localhost:8080/",
          "height": 245
        }
      },
      "source": [
        "#restrict the date set further into only '01 ONE FAMILY DWELLINGS'\n",
        "df=df.loc[(df['BUILDING_CLASS_CATEGORY'] == '01 ONE FAMILY DWELLINGS')]\n",
        "df.head(3)"
      ],
      "execution_count": 0,
      "outputs": [
        {
          "output_type": "execute_result",
          "data": {
            "text/html": [
              "<div>\n",
              "<style scoped>\n",
              "    .dataframe tbody tr th:only-of-type {\n",
              "        vertical-align: middle;\n",
              "    }\n",
              "\n",
              "    .dataframe tbody tr th {\n",
              "        vertical-align: top;\n",
              "    }\n",
              "\n",
              "    .dataframe thead th {\n",
              "        text-align: right;\n",
              "    }\n",
              "</style>\n",
              "<table border=\"1\" class=\"dataframe\">\n",
              "  <thead>\n",
              "    <tr style=\"text-align: right;\">\n",
              "      <th></th>\n",
              "      <th>BOROUGH</th>\n",
              "      <th>NEIGHBORHOOD</th>\n",
              "      <th>BUILDING_CLASS_CATEGORY</th>\n",
              "      <th>TAX_CLASS_AT_PRESENT</th>\n",
              "      <th>BLOCK</th>\n",
              "      <th>LOT</th>\n",
              "      <th>EASE-MENT</th>\n",
              "      <th>BUILDING_CLASS_AT_PRESENT</th>\n",
              "      <th>ADDRESS</th>\n",
              "      <th>APARTMENT_NUMBER</th>\n",
              "      <th>ZIP_CODE</th>\n",
              "      <th>RESIDENTIAL_UNITS</th>\n",
              "      <th>COMMERCIAL_UNITS</th>\n",
              "      <th>TOTAL_UNITS</th>\n",
              "      <th>LAND_SQUARE_FEET</th>\n",
              "      <th>GROSS_SQUARE_FEET</th>\n",
              "      <th>YEAR_BUILT</th>\n",
              "      <th>TAX_CLASS_AT_TIME_OF_SALE</th>\n",
              "      <th>BUILDING_CLASS_AT_TIME_OF_SALE</th>\n",
              "      <th>SALE_PRICE</th>\n",
              "      <th>SALE_DATE</th>\n",
              "    </tr>\n",
              "  </thead>\n",
              "  <tbody>\n",
              "    <tr>\n",
              "      <th>44</th>\n",
              "      <td>3</td>\n",
              "      <td>OTHER</td>\n",
              "      <td>01 ONE FAMILY DWELLINGS</td>\n",
              "      <td>1</td>\n",
              "      <td>5495</td>\n",
              "      <td>801</td>\n",
              "      <td>NaN</td>\n",
              "      <td>A9</td>\n",
              "      <td>4832 BAY PARKWAY</td>\n",
              "      <td>NaN</td>\n",
              "      <td>11230.0</td>\n",
              "      <td>1.0</td>\n",
              "      <td>0.0</td>\n",
              "      <td>1.0</td>\n",
              "      <td>6,800</td>\n",
              "      <td>1325.0</td>\n",
              "      <td>1930.0</td>\n",
              "      <td>1</td>\n",
              "      <td>A9</td>\n",
              "      <td>550000</td>\n",
              "      <td>01/01/2019</td>\n",
              "    </tr>\n",
              "    <tr>\n",
              "      <th>61</th>\n",
              "      <td>4</td>\n",
              "      <td>OTHER</td>\n",
              "      <td>01 ONE FAMILY DWELLINGS</td>\n",
              "      <td>1</td>\n",
              "      <td>7918</td>\n",
              "      <td>72</td>\n",
              "      <td>NaN</td>\n",
              "      <td>A1</td>\n",
              "      <td>80-23 232ND STREET</td>\n",
              "      <td>NaN</td>\n",
              "      <td>11427.0</td>\n",
              "      <td>1.0</td>\n",
              "      <td>0.0</td>\n",
              "      <td>1.0</td>\n",
              "      <td>4,000</td>\n",
              "      <td>2001.0</td>\n",
              "      <td>1940.0</td>\n",
              "      <td>1</td>\n",
              "      <td>A1</td>\n",
              "      <td>200000</td>\n",
              "      <td>01/01/2019</td>\n",
              "    </tr>\n",
              "    <tr>\n",
              "      <th>78</th>\n",
              "      <td>2</td>\n",
              "      <td>OTHER</td>\n",
              "      <td>01 ONE FAMILY DWELLINGS</td>\n",
              "      <td>1</td>\n",
              "      <td>4210</td>\n",
              "      <td>19</td>\n",
              "      <td>NaN</td>\n",
              "      <td>A1</td>\n",
              "      <td>1260 RHINELANDER AVE</td>\n",
              "      <td>NaN</td>\n",
              "      <td>10461.0</td>\n",
              "      <td>1.0</td>\n",
              "      <td>0.0</td>\n",
              "      <td>1.0</td>\n",
              "      <td>3,500</td>\n",
              "      <td>2043.0</td>\n",
              "      <td>1925.0</td>\n",
              "      <td>1</td>\n",
              "      <td>A1</td>\n",
              "      <td>810000</td>\n",
              "      <td>01/02/2019</td>\n",
              "    </tr>\n",
              "  </tbody>\n",
              "</table>\n",
              "</div>"
            ],
            "text/plain": [
              "   BOROUGH NEIGHBORHOOD  ... SALE_PRICE   SALE_DATE\n",
              "44       3        OTHER  ...     550000  01/01/2019\n",
              "61       4        OTHER  ...     200000  01/01/2019\n",
              "78       2        OTHER  ...     810000  01/02/2019\n",
              "\n",
              "[3 rows x 21 columns]"
            ]
          },
          "metadata": {
            "tags": []
          },
          "execution_count": 7
        }
      ]
    },
    {
      "cell_type": "code",
      "metadata": {
        "id": "JcWjj7cb_IPz",
        "colab_type": "code",
        "outputId": "d61df4e3-8ed6-4f7d-e44f-cd893acb9996",
        "colab": {
          "base_uri": "https://localhost:8080/",
          "height": 417
        }
      },
      "source": [
        "df.isnull().sum()\n"
      ],
      "execution_count": 0,
      "outputs": [
        {
          "output_type": "execute_result",
          "data": {
            "text/plain": [
              "BOROUGH                              0\n",
              "NEIGHBORHOOD                         0\n",
              "BUILDING_CLASS_CATEGORY              0\n",
              "TAX_CLASS_AT_PRESENT                 0\n",
              "BLOCK                                0\n",
              "LOT                                  0\n",
              "EASE-MENT                         3164\n",
              "BUILDING_CLASS_AT_PRESENT            0\n",
              "ADDRESS                              0\n",
              "APARTMENT_NUMBER                  3163\n",
              "ZIP_CODE                             0\n",
              "RESIDENTIAL_UNITS                    0\n",
              "COMMERCIAL_UNITS                     0\n",
              "TOTAL_UNITS                          0\n",
              "LAND_SQUARE_FEET                     0\n",
              "GROSS_SQUARE_FEET                    0\n",
              "YEAR_BUILT                           0\n",
              "TAX_CLASS_AT_TIME_OF_SALE            0\n",
              "BUILDING_CLASS_AT_TIME_OF_SALE       0\n",
              "SALE_PRICE                           0\n",
              "SALE_DATE                            0\n",
              "dtype: int64"
            ]
          },
          "metadata": {
            "tags": []
          },
          "execution_count": 8
        }
      ]
    },
    {
      "cell_type": "code",
      "metadata": {
        "id": "UP4AHsTOAqY9",
        "colab_type": "code",
        "outputId": "bf52f03f-bc78-4b19-8caf-80d49496bae0",
        "colab": {
          "base_uri": "https://localhost:8080/",
          "height": 417
        }
      },
      "source": [
        "df.dtypes"
      ],
      "execution_count": 0,
      "outputs": [
        {
          "output_type": "execute_result",
          "data": {
            "text/plain": [
              "BOROUGH                            object\n",
              "NEIGHBORHOOD                       object\n",
              "BUILDING_CLASS_CATEGORY            object\n",
              "TAX_CLASS_AT_PRESENT               object\n",
              "BLOCK                               int64\n",
              "LOT                                 int64\n",
              "EASE-MENT                         float64\n",
              "BUILDING_CLASS_AT_PRESENT          object\n",
              "ADDRESS                            object\n",
              "APARTMENT_NUMBER                   object\n",
              "ZIP_CODE                          float64\n",
              "RESIDENTIAL_UNITS                 float64\n",
              "COMMERCIAL_UNITS                  float64\n",
              "TOTAL_UNITS                       float64\n",
              "LAND_SQUARE_FEET                   object\n",
              "GROSS_SQUARE_FEET                 float64\n",
              "YEAR_BUILT                        float64\n",
              "TAX_CLASS_AT_TIME_OF_SALE           int64\n",
              "BUILDING_CLASS_AT_TIME_OF_SALE     object\n",
              "SALE_PRICE                          int64\n",
              "SALE_DATE                          object\n",
              "dtype: object"
            ]
          },
          "metadata": {
            "tags": []
          },
          "execution_count": 9
        }
      ]
    },
    {
      "cell_type": "markdown",
      "metadata": {
        "id": "tAF5f1aJCMb0",
        "colab_type": "text"
      },
      "source": [
        "# ```Date\n",
        "\n",
        "let split the Data into two parts Jan 2019 - March 2019 and April 2019.\n",
        "Use the three step\n",
        "\n",
        "*   Convert to numpy, pandas format\n",
        "*   Mask\n",
        "*   then .loc all dates; in other words, filter.\n",
        "Since we are training, testing, create test, train df\n",
        "\n",
        "\n",
        "\n"
      ]
    },
    {
      "cell_type": "code",
      "metadata": {
        "id": "kLiwkoitAyRj",
        "colab_type": "code",
        "outputId": "385c6be5-5d03-40ea-ee21-61214bb6c21d",
        "colab": {
          "base_uri": "https://localhost:8080/",
          "height": 54
        }
      },
      "source": [
        "#SALE_DATE is in the format DD/MM/YYYY\n",
        "df['SALE_DATE'] = pd.to_datetime(df['SALE_DATE'])\n",
        "start_date = '01/01/2019'\n",
        "end_date = '03/30/2019'\n",
        "mask = (df['SALE_DATE'] > start_date) & (df['SALE_DATE'] <= end_date)\n",
        "train_Date_March_April = df.loc[mask]\n",
        "print(train_Date_March_April.shape)\n",
        "\n",
        "df['SALE_DATE'] = pd.to_datetime(df['SALE_DATE'])\n",
        "start_date_test = '04/01/2019'\n",
        "end_date_test = '04/30/2019'\n",
        "mask_test = (df['SALE_DATE'] > start_date_test) & (df['SALE_DATE'] <= end_date_test)\n",
        "test_April = df.loc[mask_test]\n",
        "print(test_April.shape)\n",
        " \n"
      ],
      "execution_count": 0,
      "outputs": [
        {
          "output_type": "stream",
          "text": [
            "(2515, 21)\n",
            "(606, 21)\n"
          ],
          "name": "stdout"
        }
      ]
    },
    {
      "cell_type": "markdown",
      "metadata": {
        "id": "i7is5tQZTeJ9",
        "colab_type": "text"
      },
      "source": [
        "# 1-hot encoding of categorical features\n",
        "why do this?\n",
        "\n",
        "*   Let say we have a catagory column which has index can be represented T and F.\n",
        "*   So we can make those index on that column be turned into a new column which has 0 = F and F=1.\n",
        "Now we can represents the categorical data.\n",
        "\n"
      ]
    },
    {
      "cell_type": "code",
      "metadata": {
        "id": "w6tWm9tOLaxl",
        "colab_type": "code",
        "outputId": "4dced8f3-17a6-4f80-a1bd-21e94655ee50",
        "colab": {
          "base_uri": "https://localhost:8080/",
          "height": 92
        }
      },
      "source": [
        "#Before encoding let see how many columns a particular column would make.\n",
        "#InThisArea=train_Date_March_April.groupby('BUILDING_CLASS_CATEGORY').sum()\n",
        "#print(InThisArea)\n",
        "TAX_CLASS=train_Date_March_April.groupby('EASE-MENT').sum()\n",
        "print(TAX_CLASS)\n",
        "#BLOCK=train_Date_March_April.groupby('BLOCK').sum()\n",
        "#print(BLOCK)\n",
        "#RESIDENTIAL_UNITS=train_Date_March_April.groupby('RESIDENTIAL_UNITS').sum()\n",
        "#print(RESIDENTIAL_UNITS)\n",
        "#BUILDING_CLASS_AT_TIME_OF_SALE = train_Date_March_April.groupby('BUILDING_CLASS_AT_TIME_OF_SALE').sum()\n",
        "#print(BUILDING_CLASS_AT_TIME_OF_SALE)"
      ],
      "execution_count": 0,
      "outputs": [
        {
          "output_type": "stream",
          "text": [
            "Empty DataFrame\n",
            "Columns: [BLOCK, LOT, ZIP_CODE, RESIDENTIAL_UNITS, COMMERCIAL_UNITS, TOTAL_UNITS, GROSS_SQUARE_FEET, YEAR_BUILT, TAX_CLASS_AT_TIME_OF_SALE, SALE_PRICE]\n",
            "Index: []\n"
          ],
          "name": "stdout"
        }
      ]
    },
    {
      "cell_type": "markdown",
      "metadata": {
        "id": "Qberzm4PlNud",
        "colab_type": "text"
      },
      "source": [
        "# why show top?\n",
        "\n",
        "\n",
        "1.   To articulate how many columns we need to build.\n",
        "2.   If I \"1-hot encode\" blocks there will be 2065 new columns.\"\n",
        "3.   1-hot encode building class will give me a dozen categoricals.\n",
        "4.   so let encode tax_class at present because we will only be making less than 6 categoricals.\n",
        "\n"
      ]
    },
    {
      "cell_type": "markdown",
      "metadata": {
        "id": "LPIyH1I453qz",
        "colab_type": "text"
      },
      "source": [
        "Before I can 1-hot encode there are some columns that I want to be left alone, but are object-string. need to convert them to floats."
      ]
    },
    {
      "cell_type": "code",
      "metadata": {
        "id": "rAUm3-vS-ki_",
        "colab_type": "code",
        "outputId": "5542a72d-7754-4d5c-8097-39ad7c3e5e68",
        "colab": {
          "base_uri": "https://localhost:8080/",
          "height": 255
        }
      },
      "source": [
        "#converting col Land SQ Feet into float64\n",
        "train_Date_March_April['LAND_SQUARE_FEET'] = train_Date_March_April['LAND_SQUARE_FEET'].str.replace(',','').astype(np.float64)\n",
        "test_April['LAND_SQUARE_FEET'] = test_April['LAND_SQUARE_FEET'].str.replace(',','').astype(np.float64)"
      ],
      "execution_count": 0,
      "outputs": [
        {
          "output_type": "stream",
          "text": [
            "/usr/local/lib/python3.6/dist-packages/ipykernel_launcher.py:1: SettingWithCopyWarning: \n",
            "A value is trying to be set on a copy of a slice from a DataFrame.\n",
            "Try using .loc[row_indexer,col_indexer] = value instead\n",
            "\n",
            "See the caveats in the documentation: http://pandas.pydata.org/pandas-docs/stable/indexing.html#indexing-view-versus-copy\n",
            "  \"\"\"Entry point for launching an IPython kernel.\n",
            "/usr/local/lib/python3.6/dist-packages/ipykernel_launcher.py:2: SettingWithCopyWarning: \n",
            "A value is trying to be set on a copy of a slice from a DataFrame.\n",
            "Try using .loc[row_indexer,col_indexer] = value instead\n",
            "\n",
            "See the caveats in the documentation: http://pandas.pydata.org/pandas-docs/stable/indexing.html#indexing-view-versus-copy\n",
            "  \n"
          ],
          "name": "stderr"
        }
      ]
    },
    {
      "cell_type": "code",
      "metadata": {
        "id": "d3IT6a3na3xq",
        "colab_type": "code",
        "colab": {}
      },
      "source": [
        "#let exclude catagory data with +6 cateogricals\n",
        "target = 'SALE_PRICE'\n",
        "high_cardiantlity = ['BOROUGH','NEIGHBORHOOD','BUILDING_CLASS_CATEGORY',\n",
        "       'BLOCK','LOT' ,'LOT', 'EASE-MENT','BUILDING_CLASS_AT_PRESENT', 'BUILDING_CLASS_AT_PRESENT',\n",
        "       'ADDRESS','ADDRESS','APARTMENT_NUMBER' ,'APARTMENT_NUMBER', 'ZIP_CODE', 'BUILDING_CLASS_AT_TIME_OF_SALE',\n",
        "       'ZIP_CODE', 'GROSS_SQUARE_FEET']\n",
        "features = train_Date_March_April.columns.drop(high_cardiantlity + [target])\n",
        "           \n",
        "#train\n",
        "X_train = train_Date_March_April[features]\n",
        "y_train = train_Date_March_April[target]\n",
        "\n",
        "#test\n",
        "X_test = test_April[features]\n",
        "y_test = test_April[target]"
      ],
      "execution_count": 0,
      "outputs": []
    },
    {
      "cell_type": "code",
      "metadata": {
        "id": "bVslfTKUtbgc",
        "colab_type": "code",
        "colab": {}
      },
      "source": [
        "import category_encoders as ce\n",
        "encoder = ce.OneHotEncoder(use_cat_names=True)\n",
        "##train\n",
        "X_train = encoder.fit_transform(X_train)\n",
        "\n",
        "###Test\n",
        "X_test = encoder.transform(X_test)"
      ],
      "execution_count": 0,
      "outputs": []
    },
    {
      "cell_type": "code",
      "metadata": {
        "id": "8ptS81HA42RE",
        "colab_type": "code",
        "outputId": "2d533463-67ab-4f7f-c1ce-d4f5ce8490ee",
        "colab": {
          "base_uri": "https://localhost:8080/",
          "height": 108
        }
      },
      "source": [
        "X_test.columns"
      ],
      "execution_count": 0,
      "outputs": [
        {
          "output_type": "execute_result",
          "data": {
            "text/plain": [
              "Index(['TAX_CLASS_AT_PRESENT_1', 'TAX_CLASS_AT_PRESENT_1D',\n",
              "       'RESIDENTIAL_UNITS', 'COMMERCIAL_UNITS', 'TOTAL_UNITS',\n",
              "       'LAND_SQUARE_FEET', 'YEAR_BUILT', 'TAX_CLASS_AT_TIME_OF_SALE',\n",
              "       'SALE_DATE'],\n",
              "      dtype='object')"
            ]
          },
          "metadata": {
            "tags": []
          },
          "execution_count": 16
        }
      ]
    },
    {
      "cell_type": "markdown",
      "metadata": {
        "id": "oJYYG6UL_7kc",
        "colab_type": "text"
      },
      "source": [
        "# Do feature selection with SelectKBest.\n",
        "\n",
        "#we get to make engineer -features before we use SelectKBest, \n",
        "#@which randomly magically picked K features for us."
      ]
    },
    {
      "cell_type": "code",
      "metadata": {
        "id": "QeX7-Q8ORtRU",
        "colab_type": "code",
        "colab": {}
      },
      "source": [
        "train_Date_March_April['GROSS_SQUARE_FEET']"
      ],
      "execution_count": 0,
      "outputs": []
    },
    {
      "cell_type": "markdown",
      "metadata": {
        "id": "W65V7D-IVV-i",
        "colab_type": "text"
      },
      "source": [
        "Now what is important? in other words what is not important?\n",
        "  \n",
        "*   Borough Bronx, brooklyn, manhattan, queens\n",
        "*   NEIGHBORHOOD - Lower manhattan, midtown manhattan, soho\n",
        "\n",
        "*   BUILDING_CLASS_CATEGORY \n",
        "\n",
        "*  the whole dataframe can't be read because it either a string,or .dot\n"
      ]
    },
    {
      "cell_type": "code",
      "metadata": {
        "id": "CZ1o9oqqdN2y",
        "colab_type": "code",
        "colab": {}
      },
      "source": [
        "train_Date_March_April.columns"
      ],
      "execution_count": 0,
      "outputs": []
    },
    {
      "cell_type": "code",
      "metadata": {
        "id": "Sbfm_3p1OH0U",
        "colab_type": "code",
        "colab": {}
      },
      "source": [
        "#train_Date_March_April\n",
        "#test_April\n",
        "def engineer_features(X):\n",
        "  X = X.copy()\n",
        "  #name all features\n",
        "  name_all = ['RESIDENTIAL_UNITS', 'COMMERCIAL_UNITS', 'TOTAL_UNITS',\n",
        "       'LAND_SQUARE_FEET', 'GROSS_SQUARE_FEET',\n",
        "       'TAX_CLASS_AT_TIME_OF_SALE', 'BUILDING_CLASS_AT_TIME_OF_SALE',\n",
        "       ]\n",
        "  X['perk_count'] = X[name_all].sum(axis=1)\n",
        "  return X\n",
        "XUni_train = engineer_features(train_Date_March_April)\n",
        "XUni_test = engineer_features(test_April)"
      ],
      "execution_count": 0,
      "outputs": []
    },
    {
      "cell_type": "code",
      "metadata": {
        "id": "sldkHQH9ex2h",
        "colab_type": "code",
        "colab": {}
      },
      "source": [
        "drop = ['LOT', 'ADDRESS', 'APARTMENT_NUMBER', 'ZIP_CODE', 'YEAR_BUILT','BUILDING_CLASS_CATEGORY','BLOCK','BOROUGH', 'NEIGHBORHOOD','TAX_CLASS_AT_PRESENT', 'EASE-MENT','BUILDING_CLASS_AT_PRESENT', 'RESIDENTIAL_UNITS', 'COMMERCIAL_UNITS', 'TOTAL_UNITS','LAND_SQUARE_FEET', 'GROSS_SQUARE_FEET', 'TAX_CLASS_AT_TIME_OF_SALE','BUILDING_CLASS_AT_TIME_OF_SALE']\n",
        "XUni_train=XUni_train.columns.drop(drop)\n",
        "XUni_test=XUni_test.columns.drop(drop)"
      ],
      "execution_count": 0,
      "outputs": []
    },
    {
      "cell_type": "code",
      "metadata": {
        "id": "qu_ZOtBignZK",
        "colab_type": "code",
        "outputId": "45c248f8-f849-443d-c4ac-17bdac1f25ff",
        "colab": {
          "base_uri": "https://localhost:8080/",
          "height": 34
        }
      },
      "source": [
        "XUni_train"
      ],
      "execution_count": 0,
      "outputs": [
        {
          "output_type": "execute_result",
          "data": {
            "text/plain": [
              "Index(['SALE_PRICE', 'SALE_DATE', 'perk_count'], dtype='object')"
            ]
          },
          "metadata": {
            "tags": []
          },
          "execution_count": 20
        }
      ]
    },
    {
      "cell_type": "code",
      "metadata": {
        "id": "apH0RZo-I58G",
        "colab_type": "code",
        "colab": {}
      },
      "source": [
        "#will not be using feature eng for selector\n",
        "#remove dates\n",
        "from sklearn.feature_selection import f_regression, SelectKBest\n",
        "\n",
        "#similar API to what we've seen before\n",
        "selector = SelectKBest(score_func=f_regression,k=8)\n",
        "\n",
        "#fit_transform on the train set\n",
        "#.transform on test set\n",
        "X_train_selected = selector.fit_transform(XUni_train, y_train)\n",
        "X_test_selected = selector.fit_transform(XUni_test)\n",
        "X_train_selected.shape, X_test_selected.shape"
      ],
      "execution_count": 0,
      "outputs": []
    },
    {
      "cell_type": "code",
      "metadata": {
        "id": "yFBP0ARQd-jR",
        "colab_type": "code",
        "colab": {}
      },
      "source": [
        "XUni_train.dtypes"
      ],
      "execution_count": 0,
      "outputs": []
    },
    {
      "cell_type": "code",
      "metadata": {
        "id": "t-1DiBmnOq8W",
        "colab_type": "code",
        "colab": {}
      },
      "source": [
        ""
      ],
      "execution_count": 0,
      "outputs": []
    }
  ]
}